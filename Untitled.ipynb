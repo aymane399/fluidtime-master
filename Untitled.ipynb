{
 "cells": [
  {
   "cell_type": "code",
   "execution_count": 1,
   "metadata": {},
   "outputs": [
    {
     "name": "stderr",
     "output_type": "stream",
     "text": [
      "WARNING: Logging before flag parsing goes to stderr.\n",
      "W0714 22:58:15.838024  8060 deprecation_wrapper.py:119] From C:\\fluidtime-master\\ModelEval.py:7: The name tf.Session is deprecated. Please use tf.compat.v1.Session instead.\n",
      "\n",
      "Using TensorFlow backend.\n"
     ]
    }
   ],
   "source": [
    "import numpy as np\n",
    "import tensorflow as tf\n",
    "from ModelEval import ModelEval\n",
    "from ModelTrainer import ModelTrainer\n",
    "from iterators.DumbIterator import DumbIterator\n",
    "from models.DiffTime import DiffTime\n",
    "\n",
    "vocab_size = 40752\n",
    "batch_size = 7920\n",
    "# num_iterations = 99000\n",
    "num_iterations = 92671 - 92670\n",
    "num_iter_per_epoch = 100"
   ]
  },
  {
   "cell_type": "code",
   "execution_count": 2,
   "metadata": {},
   "outputs": [],
   "source": [
    "def cos(A,B):\n",
    "    A = A.reshape(-1)\n",
    "    B = B.reshape(-1)\n",
    "    a = 0 \n",
    "    b = 0\n",
    "    c = 0\n",
    "    for i in range(len(A)):\n",
    "        a += A[i]**2\n",
    "        b += B[i]**2\n",
    "        c += A[i]*B[i]\n",
    "    a = a**0.5\n",
    "    b = b**0.5\n",
    "    return (c)/(a*b)"
   ]
  },
  {
   "cell_type": "code",
   "execution_count": 3,
   "metadata": {},
   "outputs": [],
   "source": [
    "dataiter = DumbIterator(batch_size, vocab_size)"
   ]
  },
  {
   "cell_type": "code",
   "execution_count": 4,
   "metadata": {},
   "outputs": [
    {
     "name": "stderr",
     "output_type": "stream",
     "text": [
      "W0714 22:59:45.389235  8060 deprecation_wrapper.py:119] From C:\\fluidtime-master\\models\\DiffTime.py:20: The name tf.variable_scope is deprecated. Please use tf.compat.v1.variable_scope instead.\n",
      "\n",
      "W0714 22:59:45.391231  8060 deprecation_wrapper.py:119] From C:\\fluidtime-master\\models\\DiffTime.py:21: The name tf.get_variable is deprecated. Please use tf.compat.v1.get_variable instead.\n",
      "\n",
      "W0714 22:59:45.394224  8060 deprecation.py:506] From c:\\users\\ayman\\appdata\\local\\programs\\python\\python36\\lib\\site-packages\\tensorflow\\python\\ops\\init_ops.py:1251: calling VarianceScaling.__init__ (from tensorflow.python.ops.init_ops) with dtype is deprecated and will be removed in a future version.\n",
      "Instructions for updating:\n",
      "Call initializer instance with the dtype argument instead of passing it to the constructor\n",
      "W0714 22:59:45.475200  8060 deprecation_wrapper.py:119] From C:\\fluidtime-master\\ModelTrainer.py:17: The name tf.placeholder is deprecated. Please use tf.compat.v1.placeholder instead.\n",
      "\n",
      "W0714 22:59:45.480134  8060 deprecation_wrapper.py:119] From C:\\fluidtime-master\\ModelTrainer.py:22: The name tf.train.AdamOptimizer is deprecated. Please use tf.compat.v1.train.AdamOptimizer instead.\n",
      "\n",
      "W0714 22:59:45.486407  8060 deprecation.py:323] From C:\\fluidtime-master\\models\\DiffTime.py:44: dense (from tensorflow.python.layers.core) is deprecated and will be removed in a future version.\n",
      "Instructions for updating:\n",
      "Use keras.layers.dense instead.\n",
      "W0714 22:59:45.768545  8060 deprecation.py:323] From c:\\users\\ayman\\appdata\\local\\programs\\python\\python36\\lib\\site-packages\\tensorflow\\python\\ops\\nn_impl.py:180: add_dispatch_support.<locals>.wrapper (from tensorflow.python.ops.array_ops) is deprecated and will be removed in a future version.\n",
      "Instructions for updating:\n",
      "Use tf.where in 2.0, which has the same broadcast rule as np.where\n",
      "W0714 22:59:45.778501  8060 deprecation_wrapper.py:119] From C:\\fluidtime-master\\ModelTrainer.py:24: The name tf.summary.scalar is deprecated. Please use tf.compat.v1.summary.scalar instead.\n",
      "\n",
      "W0714 22:59:46.794367  8060 deprecation_wrapper.py:119] From C:\\fluidtime-master\\ModelTrainer.py:27: The name tf.global_variables_initializer is deprecated. Please use tf.compat.v1.global_variables_initializer instead.\n",
      "\n",
      "  0%|                                                                                            | 0/1 [00:00<?, ?it/s]"
     ]
    },
    {
     "name": "stdout",
     "output_type": "stream",
     "text": [
      "Step 0: loss = 0.8196 (2.449 sec)\n"
     ]
    },
    {
     "name": "stderr",
     "output_type": "stream",
     "text": [
      "100%|████████████████████████████████████████████████████████████████████████████████████| 1/1 [00:02<00:00,  2.45s/it]\n"
     ]
    }
   ],
   "source": [
    "with tf.Session() as sess:\n",
    "    model = DiffTime(vocab_size)\n",
    "    trainer = ModelTrainer(sess, dataiter, model)\n",
    "    trainer.train_model(batch_size, num_iterations, num_iter_per_epoch)\n",
    "    modeleval = ModelEval(sess, model)\n",
    "    a = model.get_target_vector([51],[0.0]).eval()\n",
    "    b = model.get_target_vector([51],[1.0]).eval()\n",
    "    L = [cos(model.get_target_vector([x],[0.0]).eval(),model.get_target_vector([x],[1.0]).eval()) for x in trainer.dataiter.target_words] "
   ]
  },
  {
   "cell_type": "code",
   "execution_count": 5,
   "metadata": {},
   "outputs": [
    {
     "data": {
      "text/plain": [
       "[0.8865691135123102,\n",
       " 0.8894525118944944,\n",
       " 0.8918011020081092,\n",
       " 0.8870819235455689,\n",
       " 0.8898685734352862,\n",
       " 0.886589044937972,\n",
       " 0.8922884035357413,\n",
       " 0.8887693494418697,\n",
       " 0.8816747232816752,\n",
       " 0.8979325951978789,\n",
       " 0.8849890037385,\n",
       " 0.8888740742420285,\n",
       " 0.889763286813785,\n",
       " 0.8811019684124117,\n",
       " 0.8912064199575026,\n",
       " 0.885323007740377,\n",
       " 0.8810201179931348,\n",
       " 0.8890772562585014,\n",
       " 0.8837704763906049]"
      ]
     },
     "execution_count": 5,
     "metadata": {},
     "output_type": "execute_result"
    }
   ],
   "source": [
    "L"
   ]
  },
  {
   "cell_type": "code",
   "execution_count": null,
   "metadata": {},
   "outputs": [],
   "source": []
  }
 ],
 "metadata": {
  "kernelspec": {
   "display_name": "Python 3",
   "language": "python",
   "name": "python3"
  },
  "language_info": {
   "codemirror_mode": {
    "name": "ipython",
    "version": 3
   },
   "file_extension": ".py",
   "mimetype": "text/x-python",
   "name": "python",
   "nbconvert_exporter": "python",
   "pygments_lexer": "ipython3",
   "version": "3.6.7"
  }
 },
 "nbformat": 4,
 "nbformat_minor": 2
}
